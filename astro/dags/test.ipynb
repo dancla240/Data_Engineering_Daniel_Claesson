{
 "cells": [
  {
   "cell_type": "code",
   "execution_count": 99,
   "metadata": {},
   "outputs": [],
   "source": [
    "from datetime import datetime\n",
    "import requests\n",
    "import json\n",
    "import pandas as pd\n",
    "import os"
   ]
  },
  {
   "cell_type": "code",
   "execution_count": 78,
   "metadata": {},
   "outputs": [
    {
     "data": {
      "text/plain": [
       "6"
      ]
     },
     "execution_count": 78,
     "metadata": {},
     "output_type": "execute_result"
    }
   ],
   "source": [
    "tid = datetime.now()\n",
    "tid.month"
   ]
  },
  {
   "cell_type": "code",
   "execution_count": 128,
   "metadata": {},
   "outputs": [
    {
     "name": "stdout",
     "output_type": "stream",
     "text": [
      "2024/06-14_SE3\n"
     ]
    }
   ],
   "source": [
    "datestring = str(str(tid.year)+'/0'+str(tid.month)+'-'+str(tid.day)+'_SE3')\n",
    "datestring2 = str(str(tid.year)+'_0'+str(tid.month)+'-'+str(tid.day)+'_SE3')\n",
    "print(datestring)"
   ]
  },
  {
   "cell_type": "code",
   "execution_count": 119,
   "metadata": {},
   "outputs": [
    {
     "name": "stdout",
     "output_type": "stream",
     "text": [
      "200\n"
     ]
    }
   ],
   "source": [
    "url = f'https://www.elprisetjustnu.se/api/v1/prices/{datestring}.json'\n",
    "#print(url)\n",
    "#url = 'https://www.elprisetjustnu.se/api/v1/prices/2024/06-13_SE3.json'\n",
    "req = requests.get(url)\n",
    "print(req.status_code)"
   ]
  },
  {
   "cell_type": "code",
   "execution_count": 120,
   "metadata": {},
   "outputs": [
    {
     "data": {
      "text/plain": [
       "list"
      ]
     },
     "execution_count": 120,
     "metadata": {},
     "output_type": "execute_result"
    }
   ],
   "source": [
    "data = req.json()\n",
    "type(data)"
   ]
  },
  {
   "cell_type": "code",
   "execution_count": 121,
   "metadata": {},
   "outputs": [
    {
     "name": "stdout",
     "output_type": "stream",
     "text": [
      "[{'SEK_per_kWh': 0.38235, 'EUR_per_kWh': 0.03407, 'EXR': 11.222625, 'time_start': '2024-06-14T00:00:00+02:00', 'time_end': '2024-06-14T01:00:00+02:00'}, {'SEK_per_kWh': 0.37663, 'EUR_per_kWh': 0.03356, 'EXR': 11.222625, 'time_start': '2024-06-14T01:00:00+02:00', 'time_end': '2024-06-14T02:00:00+02:00'}, {'SEK_per_kWh': 0.37147, 'EUR_per_kWh': 0.0331, 'EXR': 11.222625, 'time_start': '2024-06-14T02:00:00+02:00', 'time_end': '2024-06-14T03:00:00+02:00'}, {'SEK_per_kWh': 0.36945, 'EUR_per_kWh': 0.03292, 'EXR': 11.222625, 'time_start': '2024-06-14T03:00:00+02:00', 'time_end': '2024-06-14T04:00:00+02:00'}, {'SEK_per_kWh': 0.37326, 'EUR_per_kWh': 0.03326, 'EXR': 11.222625, 'time_start': '2024-06-14T04:00:00+02:00', 'time_end': '2024-06-14T05:00:00+02:00'}, {'SEK_per_kWh': 0.4011, 'EUR_per_kWh': 0.03574, 'EXR': 11.222625, 'time_start': '2024-06-14T05:00:00+02:00', 'time_end': '2024-06-14T06:00:00+02:00'}, {'SEK_per_kWh': 0.44161, 'EUR_per_kWh': 0.03935, 'EXR': 11.222625, 'time_start': '2024-06-14T06:00:00+02:00', 'time_end': '2024-06-14T07:00:00+02:00'}, {'SEK_per_kWh': 0.47898, 'EUR_per_kWh': 0.04268, 'EXR': 11.222625, 'time_start': '2024-06-14T07:00:00+02:00', 'time_end': '2024-06-14T08:00:00+02:00'}, {'SEK_per_kWh': 0.48931, 'EUR_per_kWh': 0.0436, 'EXR': 11.222625, 'time_start': '2024-06-14T08:00:00+02:00', 'time_end': '2024-06-14T09:00:00+02:00'}, {'SEK_per_kWh': 0.48055, 'EUR_per_kWh': 0.04282, 'EXR': 11.222625, 'time_start': '2024-06-14T09:00:00+02:00', 'time_end': '2024-06-14T10:00:00+02:00'}, {'SEK_per_kWh': 0.47606, 'EUR_per_kWh': 0.04242, 'EXR': 11.222625, 'time_start': '2024-06-14T10:00:00+02:00', 'time_end': '2024-06-14T11:00:00+02:00'}, {'SEK_per_kWh': 0.46798, 'EUR_per_kWh': 0.0417, 'EXR': 11.222625, 'time_start': '2024-06-14T11:00:00+02:00', 'time_end': '2024-06-14T12:00:00+02:00'}, {'SEK_per_kWh': 0.45968, 'EUR_per_kWh': 0.04096, 'EXR': 11.222625, 'time_start': '2024-06-14T12:00:00+02:00', 'time_end': '2024-06-14T13:00:00+02:00'}, {'SEK_per_kWh': 0.44183, 'EUR_per_kWh': 0.03937, 'EXR': 11.222625, 'time_start': '2024-06-14T13:00:00+02:00', 'time_end': '2024-06-14T14:00:00+02:00'}, {'SEK_per_kWh': 0.41019, 'EUR_per_kWh': 0.03655, 'EXR': 11.222625, 'time_start': '2024-06-14T14:00:00+02:00', 'time_end': '2024-06-14T15:00:00+02:00'}, {'SEK_per_kWh': 0.41468, 'EUR_per_kWh': 0.03695, 'EXR': 11.222625, 'time_start': '2024-06-14T15:00:00+02:00', 'time_end': '2024-06-14T16:00:00+02:00'}, {'SEK_per_kWh': 0.44049, 'EUR_per_kWh': 0.03925, 'EXR': 11.222625, 'time_start': '2024-06-14T16:00:00+02:00', 'time_end': '2024-06-14T17:00:00+02:00'}, {'SEK_per_kWh': 0.44329, 'EUR_per_kWh': 0.0395, 'EXR': 11.222625, 'time_start': '2024-06-14T17:00:00+02:00', 'time_end': '2024-06-14T18:00:00+02:00'}, {'SEK_per_kWh': 0.44419, 'EUR_per_kWh': 0.03958, 'EXR': 11.222625, 'time_start': '2024-06-14T18:00:00+02:00', 'time_end': '2024-06-14T19:00:00+02:00'}, {'SEK_per_kWh': 0.44374, 'EUR_per_kWh': 0.03954, 'EXR': 11.222625, 'time_start': '2024-06-14T19:00:00+02:00', 'time_end': '2024-06-14T20:00:00+02:00'}, {'SEK_per_kWh': 0.43117, 'EUR_per_kWh': 0.03842, 'EXR': 11.222625, 'time_start': '2024-06-14T20:00:00+02:00', 'time_end': '2024-06-14T21:00:00+02:00'}, {'SEK_per_kWh': 0.4186, 'EUR_per_kWh': 0.0373, 'EXR': 11.222625, 'time_start': '2024-06-14T21:00:00+02:00', 'time_end': '2024-06-14T22:00:00+02:00'}, {'SEK_per_kWh': 0.38875, 'EUR_per_kWh': 0.03464, 'EXR': 11.222625, 'time_start': '2024-06-14T22:00:00+02:00', 'time_end': '2024-06-14T23:00:00+02:00'}, {'SEK_per_kWh': 0.34824, 'EUR_per_kWh': 0.03103, 'EXR': 11.222625, 'time_start': '2024-06-14T23:00:00+02:00', 'time_end': '2024-06-15T00:00:00+02:00'}]\n"
     ]
    }
   ],
   "source": [
    "print(data)"
   ]
  },
  {
   "cell_type": "code",
   "execution_count": 83,
   "metadata": {},
   "outputs": [
    {
     "data": {
      "text/plain": [
       "0.38235"
      ]
     },
     "execution_count": 83,
     "metadata": {},
     "output_type": "execute_result"
    }
   ],
   "source": [
    "data[0]['SEK_per_kWh']"
   ]
  },
  {
   "cell_type": "code",
   "execution_count": 122,
   "metadata": {},
   "outputs": [
    {
     "data": {
      "text/plain": [
       "34"
      ]
     },
     "execution_count": 122,
     "metadata": {},
     "output_type": "execute_result"
    }
   ],
   "source": [
    "d = {'sek' : 34}\n",
    "d['sek']"
   ]
  },
  {
   "cell_type": "code",
   "execution_count": 123,
   "metadata": {},
   "outputs": [
    {
     "name": "stdout",
     "output_type": "stream",
     "text": [
      "c:\\Users\\danie\\Documents\\GitHUb\\Data_Engineering_Daniel_Claesson\\astro\\dags\n"
     ]
    }
   ],
   "source": [
    "current_dir = os.getcwd()\n",
    "print(current_dir)\n",
    "os.makedirs(os.path.dirname('c:/Users/danie/Documents/GitHUb/Data_Engineering_Daniel_Claesosn/data/'), exist_ok=True)\n"
   ]
  },
  {
   "cell_type": "code",
   "execution_count": 131,
   "metadata": {},
   "outputs": [
    {
     "ename": "",
     "evalue": "",
     "output_type": "error",
     "traceback": [
      "\u001b[1;31mThe Kernel crashed while executing code in the current cell or a previous cell. \n",
      "\u001b[1;31mPlease review the code in the cell(s) to identify a possible cause of the failure. \n",
      "\u001b[1;31mClick <a href='https://aka.ms/vscodeJupyterKernelCrash'>here</a> for more info. \n",
      "\u001b[1;31mView Jupyter <a href='command:jupyter.viewOutput'>log</a> for further details."
     ]
    }
   ],
   "source": [
    "df = pd.DataFrame(data)\n",
    "\n",
    "path = 'C://Users//danie//Documents//GitHUb//Data_Engineering_Daniel_Claesson//Data'\n",
    "filename = f'spotpris_{datestring2}.csv'\n",
    "full_path = os.path.join(path, filename)\n",
    "\n",
    "os.makedirs(os.path.dirname(full_path), exist_ok=True)\n",
    "\n",
    "with open(full_path, 'w', newline='') as file:\n",
    "    df.to_csv(file)"
   ]
  }
 ],
 "metadata": {
  "kernelspec": {
   "display_name": "venv",
   "language": "python",
   "name": "python3"
  },
  "language_info": {
   "codemirror_mode": {
    "name": "ipython",
    "version": 3
   },
   "file_extension": ".py",
   "mimetype": "text/x-python",
   "name": "python",
   "nbconvert_exporter": "python",
   "pygments_lexer": "ipython3",
   "version": "3.12.3"
  }
 },
 "nbformat": 4,
 "nbformat_minor": 2
}
