{
 "cells": [
  {
   "cell_type": "code",
   "execution_count": 8,
   "metadata": {},
   "outputs": [],
   "source": [
    "import pandas as pd\n",
    "import random"
   ]
  },
  {
   "cell_type": "code",
   "execution_count": 122,
   "metadata": {},
   "outputs": [],
   "source": [
    "# använde den här ipynb filen för att komma på hur jag ska extrahera den behövda datan till uppgiften.\n",
    "link = 'https://sv.wikipedia.org/wiki/Lista_%C3%B6ver_Pok%C3%A9mon'\n",
    "df = pd.DataFrame(pd.read_html(link)[1])\n",
    "df = df.iloc[0:151,[2,0]]\n",
    "df.rename(columns={'Nationellt Pokédex №' : 'Pokedex'}, inplace=True)\n",
    "df.set_index(\"Pokedex\", inplace=True)\n",
    "df[\"Engelskt namn\"].to_json(\"../pokedata/pokelist.json\", orient=\"index\")"
   ]
  },
  {
   "cell_type": "code",
   "execution_count": 107,
   "metadata": {},
   "outputs": [
    {
     "data": {
      "text/html": [
       "<div>\n",
       "<style scoped>\n",
       "    .dataframe tbody tr th:only-of-type {\n",
       "        vertical-align: middle;\n",
       "    }\n",
       "\n",
       "    .dataframe tbody tr th {\n",
       "        vertical-align: top;\n",
       "    }\n",
       "\n",
       "    .dataframe thead th {\n",
       "        text-align: right;\n",
       "    }\n",
       "</style>\n",
       "<table border=\"1\" class=\"dataframe\">\n",
       "  <thead>\n",
       "    <tr style=\"text-align: right;\">\n",
       "      <th></th>\n",
       "      <th>Engelskt namn</th>\n",
       "      <th>Japanskt namn</th>\n",
       "      <th>Nationellt Pokédex №</th>\n",
       "      <th>Typ</th>\n",
       "    </tr>\n",
       "  </thead>\n",
       "  <tbody>\n",
       "    <tr>\n",
       "      <th>0</th>\n",
       "      <td>Bulbasaur</td>\n",
       "      <td>Fushigidane (フシギダネ)</td>\n",
       "      <td>1</td>\n",
       "      <td>Gräs/Gift</td>\n",
       "    </tr>\n",
       "    <tr>\n",
       "      <th>1</th>\n",
       "      <td>Ivysaur</td>\n",
       "      <td>Fushigisō (フシギソウ)</td>\n",
       "      <td>2</td>\n",
       "      <td>Gräs/Gift</td>\n",
       "    </tr>\n",
       "    <tr>\n",
       "      <th>2</th>\n",
       "      <td>Venusaur</td>\n",
       "      <td>Fushigibana (フシギバナ)</td>\n",
       "      <td>3</td>\n",
       "      <td>Gräs/Gift</td>\n",
       "    </tr>\n",
       "    <tr>\n",
       "      <th>3</th>\n",
       "      <td>Charmander</td>\n",
       "      <td>Hitokage (ヒトカゲ)</td>\n",
       "      <td>4</td>\n",
       "      <td>Eld</td>\n",
       "    </tr>\n",
       "    <tr>\n",
       "      <th>4</th>\n",
       "      <td>Charmeleon</td>\n",
       "      <td>Rizādo (リザード)</td>\n",
       "      <td>5</td>\n",
       "      <td>Eld</td>\n",
       "    </tr>\n",
       "    <tr>\n",
       "      <th>...</th>\n",
       "      <td>...</td>\n",
       "      <td>...</td>\n",
       "      <td>...</td>\n",
       "      <td>...</td>\n",
       "    </tr>\n",
       "    <tr>\n",
       "      <th>893</th>\n",
       "      <td>Regieleki</td>\n",
       "      <td>Rejiereki (レジエレキ)</td>\n",
       "      <td>894</td>\n",
       "      <td>Elektrisk</td>\n",
       "    </tr>\n",
       "    <tr>\n",
       "      <th>894</th>\n",
       "      <td>Regidrago</td>\n",
       "      <td>Rejidorago (レジドラゴ)</td>\n",
       "      <td>895</td>\n",
       "      <td>Drake</td>\n",
       "    </tr>\n",
       "    <tr>\n",
       "      <th>895</th>\n",
       "      <td>Glastrier</td>\n",
       "      <td>Burizaposu (ブリザポス)</td>\n",
       "      <td>896</td>\n",
       "      <td>Is</td>\n",
       "    </tr>\n",
       "    <tr>\n",
       "      <th>896</th>\n",
       "      <td>Spectrier</td>\n",
       "      <td>Reisuposu (レイスポス)</td>\n",
       "      <td>897</td>\n",
       "      <td>Spöke</td>\n",
       "    </tr>\n",
       "    <tr>\n",
       "      <th>897</th>\n",
       "      <td>Calyrex</td>\n",
       "      <td>Badorekkusu (バドレックス)</td>\n",
       "      <td>898</td>\n",
       "      <td>Psykisk/Gräs</td>\n",
       "    </tr>\n",
       "  </tbody>\n",
       "</table>\n",
       "<p>898 rows × 4 columns</p>\n",
       "</div>"
      ],
      "text/plain": [
       "    Engelskt namn         Japanskt namn  Nationellt Pokédex №           Typ\n",
       "0       Bulbasaur   Fushigidane (フシギダネ)                     1     Gräs/Gift\n",
       "1         Ivysaur     Fushigisō (フシギソウ)                     2     Gräs/Gift\n",
       "2        Venusaur   Fushigibana (フシギバナ)                     3     Gräs/Gift\n",
       "3      Charmander       Hitokage (ヒトカゲ)                     4           Eld\n",
       "4      Charmeleon         Rizādo (リザード)                     5           Eld\n",
       "..            ...                   ...                   ...           ...\n",
       "893     Regieleki     Rejiereki (レジエレキ)                   894     Elektrisk\n",
       "894     Regidrago    Rejidorago (レジドラゴ)                   895         Drake\n",
       "895     Glastrier    Burizaposu (ブリザポス)                   896            Is\n",
       "896     Spectrier     Reisuposu (レイスポス)                   897         Spöke\n",
       "897       Calyrex  Badorekkusu (バドレックス)                   898  Psykisk/Gräs\n",
       "\n",
       "[898 rows x 4 columns]"
      ]
     },
     "execution_count": 107,
     "metadata": {},
     "output_type": "execute_result"
    }
   ],
   "source": [
    "link = 'https://sv.wikipedia.org/wiki/Lista_%C3%B6ver_Pok%C3%A9mon'\n",
    "list = pd.read_html(link)\n",
    "list[1]\n"
   ]
  },
  {
   "cell_type": "code",
   "execution_count": 108,
   "metadata": {},
   "outputs": [
    {
     "data": {
      "text/plain": [
       "pandas.core.frame.DataFrame"
      ]
     },
     "execution_count": 108,
     "metadata": {},
     "output_type": "execute_result"
    }
   ],
   "source": [
    "type(list[1])"
   ]
  },
  {
   "cell_type": "code",
   "execution_count": 109,
   "metadata": {},
   "outputs": [],
   "source": [
    "# döper om list[1] till df\n",
    "df = list[1]"
   ]
  },
  {
   "cell_type": "code",
   "execution_count": 110,
   "metadata": {},
   "outputs": [
    {
     "data": {
      "text/html": [
       "<div>\n",
       "<style scoped>\n",
       "    .dataframe tbody tr th:only-of-type {\n",
       "        vertical-align: middle;\n",
       "    }\n",
       "\n",
       "    .dataframe tbody tr th {\n",
       "        vertical-align: top;\n",
       "    }\n",
       "\n",
       "    .dataframe thead th {\n",
       "        text-align: right;\n",
       "    }\n",
       "</style>\n",
       "<table border=\"1\" class=\"dataframe\">\n",
       "  <thead>\n",
       "    <tr style=\"text-align: right;\">\n",
       "      <th></th>\n",
       "      <th>Engelskt namn</th>\n",
       "      <th>Japanskt namn</th>\n",
       "      <th>Nationellt Pokédex №</th>\n",
       "      <th>Typ</th>\n",
       "    </tr>\n",
       "  </thead>\n",
       "  <tbody>\n",
       "    <tr>\n",
       "      <th>0</th>\n",
       "      <td>Bulbasaur</td>\n",
       "      <td>Fushigidane (フシギダネ)</td>\n",
       "      <td>1</td>\n",
       "      <td>Gräs/Gift</td>\n",
       "    </tr>\n",
       "    <tr>\n",
       "      <th>1</th>\n",
       "      <td>Ivysaur</td>\n",
       "      <td>Fushigisō (フシギソウ)</td>\n",
       "      <td>2</td>\n",
       "      <td>Gräs/Gift</td>\n",
       "    </tr>\n",
       "    <tr>\n",
       "      <th>2</th>\n",
       "      <td>Venusaur</td>\n",
       "      <td>Fushigibana (フシギバナ)</td>\n",
       "      <td>3</td>\n",
       "      <td>Gräs/Gift</td>\n",
       "    </tr>\n",
       "    <tr>\n",
       "      <th>3</th>\n",
       "      <td>Charmander</td>\n",
       "      <td>Hitokage (ヒトカゲ)</td>\n",
       "      <td>4</td>\n",
       "      <td>Eld</td>\n",
       "    </tr>\n",
       "    <tr>\n",
       "      <th>4</th>\n",
       "      <td>Charmeleon</td>\n",
       "      <td>Rizādo (リザード)</td>\n",
       "      <td>5</td>\n",
       "      <td>Eld</td>\n",
       "    </tr>\n",
       "    <tr>\n",
       "      <th>...</th>\n",
       "      <td>...</td>\n",
       "      <td>...</td>\n",
       "      <td>...</td>\n",
       "      <td>...</td>\n",
       "    </tr>\n",
       "    <tr>\n",
       "      <th>893</th>\n",
       "      <td>Regieleki</td>\n",
       "      <td>Rejiereki (レジエレキ)</td>\n",
       "      <td>894</td>\n",
       "      <td>Elektrisk</td>\n",
       "    </tr>\n",
       "    <tr>\n",
       "      <th>894</th>\n",
       "      <td>Regidrago</td>\n",
       "      <td>Rejidorago (レジドラゴ)</td>\n",
       "      <td>895</td>\n",
       "      <td>Drake</td>\n",
       "    </tr>\n",
       "    <tr>\n",
       "      <th>895</th>\n",
       "      <td>Glastrier</td>\n",
       "      <td>Burizaposu (ブリザポス)</td>\n",
       "      <td>896</td>\n",
       "      <td>Is</td>\n",
       "    </tr>\n",
       "    <tr>\n",
       "      <th>896</th>\n",
       "      <td>Spectrier</td>\n",
       "      <td>Reisuposu (レイスポス)</td>\n",
       "      <td>897</td>\n",
       "      <td>Spöke</td>\n",
       "    </tr>\n",
       "    <tr>\n",
       "      <th>897</th>\n",
       "      <td>Calyrex</td>\n",
       "      <td>Badorekkusu (バドレックス)</td>\n",
       "      <td>898</td>\n",
       "      <td>Psykisk/Gräs</td>\n",
       "    </tr>\n",
       "  </tbody>\n",
       "</table>\n",
       "<p>898 rows × 4 columns</p>\n",
       "</div>"
      ],
      "text/plain": [
       "    Engelskt namn         Japanskt namn  Nationellt Pokédex №           Typ\n",
       "0       Bulbasaur   Fushigidane (フシギダネ)                     1     Gräs/Gift\n",
       "1         Ivysaur     Fushigisō (フシギソウ)                     2     Gräs/Gift\n",
       "2        Venusaur   Fushigibana (フシギバナ)                     3     Gräs/Gift\n",
       "3      Charmander       Hitokage (ヒトカゲ)                     4           Eld\n",
       "4      Charmeleon         Rizādo (リザード)                     5           Eld\n",
       "..            ...                   ...                   ...           ...\n",
       "893     Regieleki     Rejiereki (レジエレキ)                   894     Elektrisk\n",
       "894     Regidrago    Rejidorago (レジドラゴ)                   895         Drake\n",
       "895     Glastrier    Burizaposu (ブリザポス)                   896            Is\n",
       "896     Spectrier     Reisuposu (レイスポス)                   897         Spöke\n",
       "897       Calyrex  Badorekkusu (バドレックス)                   898  Psykisk/Gräs\n",
       "\n",
       "[898 rows x 4 columns]"
      ]
     },
     "execution_count": 110,
     "metadata": {},
     "output_type": "execute_result"
    }
   ],
   "source": [
    "df"
   ]
  },
  {
   "cell_type": "code",
   "execution_count": 111,
   "metadata": {},
   "outputs": [
    {
     "data": {
      "text/plain": [
       "Index(['Engelskt namn', 'Japanskt namn', 'Nationellt Pokédex №', 'Typ'], dtype='object')"
      ]
     },
     "execution_count": 111,
     "metadata": {},
     "output_type": "execute_result"
    }
   ],
   "source": [
    "df.columns"
   ]
  },
  {
   "cell_type": "code",
   "execution_count": 112,
   "metadata": {},
   "outputs": [
    {
     "data": {
      "text/html": [
       "<div>\n",
       "<style scoped>\n",
       "    .dataframe tbody tr th:only-of-type {\n",
       "        vertical-align: middle;\n",
       "    }\n",
       "\n",
       "    .dataframe tbody tr th {\n",
       "        vertical-align: top;\n",
       "    }\n",
       "\n",
       "    .dataframe thead th {\n",
       "        text-align: right;\n",
       "    }\n",
       "</style>\n",
       "<table border=\"1\" class=\"dataframe\">\n",
       "  <thead>\n",
       "    <tr style=\"text-align: right;\">\n",
       "      <th></th>\n",
       "      <th>Engelskt namn</th>\n",
       "    </tr>\n",
       "    <tr>\n",
       "      <th>Pokedex</th>\n",
       "      <th></th>\n",
       "    </tr>\n",
       "  </thead>\n",
       "  <tbody>\n",
       "    <tr>\n",
       "      <th>1</th>\n",
       "      <td>Bulbasaur</td>\n",
       "    </tr>\n",
       "    <tr>\n",
       "      <th>2</th>\n",
       "      <td>Ivysaur</td>\n",
       "    </tr>\n",
       "    <tr>\n",
       "      <th>3</th>\n",
       "      <td>Venusaur</td>\n",
       "    </tr>\n",
       "    <tr>\n",
       "      <th>4</th>\n",
       "      <td>Charmander</td>\n",
       "    </tr>\n",
       "    <tr>\n",
       "      <th>5</th>\n",
       "      <td>Charmeleon</td>\n",
       "    </tr>\n",
       "    <tr>\n",
       "      <th>...</th>\n",
       "      <td>...</td>\n",
       "    </tr>\n",
       "    <tr>\n",
       "      <th>147</th>\n",
       "      <td>Dratini</td>\n",
       "    </tr>\n",
       "    <tr>\n",
       "      <th>148</th>\n",
       "      <td>Dragonair</td>\n",
       "    </tr>\n",
       "    <tr>\n",
       "      <th>149</th>\n",
       "      <td>Dragonite</td>\n",
       "    </tr>\n",
       "    <tr>\n",
       "      <th>150</th>\n",
       "      <td>Mewtwo</td>\n",
       "    </tr>\n",
       "    <tr>\n",
       "      <th>151</th>\n",
       "      <td>Mew</td>\n",
       "    </tr>\n",
       "  </tbody>\n",
       "</table>\n",
       "<p>151 rows × 1 columns</p>\n",
       "</div>"
      ],
      "text/plain": [
       "        Engelskt namn\n",
       "Pokedex              \n",
       "1           Bulbasaur\n",
       "2             Ivysaur\n",
       "3            Venusaur\n",
       "4          Charmander\n",
       "5          Charmeleon\n",
       "...               ...\n",
       "147           Dratini\n",
       "148         Dragonair\n",
       "149         Dragonite\n",
       "150            Mewtwo\n",
       "151               Mew\n",
       "\n",
       "[151 rows x 1 columns]"
      ]
     },
     "execution_count": 112,
     "metadata": {},
     "output_type": "execute_result"
    }
   ],
   "source": [
    "df = df.iloc[0:151,[2,0]]\n",
    "df.rename(columns={'Nationellt Pokédex №' : 'Pokedex'}, inplace=True)\n",
    "df.set_index(\"Pokedex\", inplace=True)\n",
    "df"
   ]
  },
  {
   "cell_type": "code",
   "execution_count": 113,
   "metadata": {},
   "outputs": [],
   "source": [
    "#json_result = df[\"Engelskt namn\"].to_json(orient=\"index\")\n",
    "df[\"Engelskt namn\"].to_json(\"../pokedata/pokelist.json\", orient=\"index\")"
   ]
  },
  {
   "cell_type": "markdown",
   "metadata": {},
   "source": [
    "b)"
   ]
  },
  {
   "cell_type": "code",
   "execution_count": 142,
   "metadata": {},
   "outputs": [
    {
     "name": "stdout",
     "output_type": "stream",
     "text": [
      "['17', '136', '125', '41', '88', '111']\n"
     ]
    }
   ],
   "source": [
    "nbr_of_randints = 6\n",
    "n_random_int = []\n",
    "\n",
    "for times in range(nbr_of_randints):\n",
    "    random_int = random.randint(1, 151)\n",
    "    n_random_int.append(str(random_int))\n",
    "\n",
    "print(n_random_int)"
   ]
  },
  {
   "cell_type": "code",
   "execution_count": 179,
   "metadata": {},
   "outputs": [],
   "source": [
    "import requests\n",
    "import json\n",
    "import random\n",
    "import time\n",
    "\n",
    "list_of_int = []\n",
    "\n",
    "while len(list_of_int) <= 5:\n",
    "    rand_int = random.randint(1, 151)\n",
    "    if rand_int not in list_of_int:\n",
    "        list_of_int.append(rand_int)\n",
    "\n",
    "for item in list_of_int:\n",
    "    with open('../pokedata/pokelist.json') as file:\n",
    "        pokelist = json.load(file)\n",
    "    pokemon = pokelist[str(item)].lower()\n",
    "    pokemondata = requests.get(f\"https://pokeapi.co/api/v2/pokemon-species/{pokemon}\")\n",
    "    with open(f'../pokedata/pokebelt/{pokemon}.json', 'w') as file2:\n",
    "        json.dump(pokemondata.json(), file2)\n",
    "    time.sleep(2)\n"
   ]
  },
  {
   "cell_type": "code",
   "execution_count": 180,
   "metadata": {},
   "outputs": [],
   "source": [
    "def extract_pokemon_data():\n",
    "    \"\"\"Extracts data for 6 random Pokemons and saves the data as .json.\"\"\"\n",
    "    list_of_int = []\n",
    "\n",
    "    while len(list_of_int) <= 5:\n",
    "        rand_int = random.randint(1, 151)\n",
    "        if rand_int not in list_of_int:\n",
    "            list_of_int.append(rand_int)\n",
    "\n",
    "    for item in list_of_int:\n",
    "        with open('../pokedata/pokelist.json') as file:\n",
    "            pokelist = json.load(file)\n",
    "        pokemon = pokelist[str(item)].lower()\n",
    "        pokemondata = requests.get(f\"https://pokeapi.co/api/v2/pokemon-species/{pokemon}\")\n",
    "        with open(f'../pokedata/pokebelt/{pokemon}.json', 'w') as file2:\n",
    "            json.dump(pokemondata.json(), file2)\n",
    "        time.sleep(2)\n",
    "\n",
    "extract_pokemon_data()"
   ]
  },
  {
   "cell_type": "code",
   "execution_count": 160,
   "metadata": {},
   "outputs": [
    {
     "name": "stdout",
     "output_type": "stream",
     "text": [
      "['129', '122', '72', '124', '112', '105']\n"
     ]
    }
   ],
   "source": [
    "l = []\n",
    "\n",
    "while len(l) <= 5:\n",
    "    rand_int = str(random.randint(1, 151))\n",
    "    if rand_int not in l:\n",
    "        l.append(rand_int)\n",
    "print(l)"
   ]
  },
  {
   "cell_type": "code",
   "execution_count": 154,
   "metadata": {},
   "outputs": [],
   "source": [
    "import requests\n",
    "import json\n",
    "#data = pd.read_json(\"../pokedata/pokelist.json\", typ=\"serie\")\n",
    "# ln = \"https://pokeapi.co/api/v2/pokemon-species/\" + str.lower(data[1])\n",
    "#ln = \"https://pokeapi.co/api/v2/pokemon-species/bulbasaur\"\n",
    "#read_h = pd.read_html('https://pokeapi.co/api/v2/pokemon-species/bulbasaur')\n",
    "#print(read_h)\n",
    "b = requests.get(url='https://pokeapi.co/api/v2/pokemon-species/bulbasaur')\n",
    "#print(a.json())\n",
    "with open('b.json', 'w') as file:\n",
    "    json.dump(b.json(), file)"
   ]
  },
  {
   "cell_type": "code",
   "execution_count": 119,
   "metadata": {},
   "outputs": [
    {
     "name": "stdout",
     "output_type": "stream",
     "text": [
      "50\n"
     ]
    }
   ],
   "source": [
    "print(a.json()['base_happiness'])    "
   ]
  },
  {
   "cell_type": "code",
   "execution_count": 178,
   "metadata": {},
   "outputs": [
    {
     "data": {
      "text/plain": [
       "'venusaur'"
      ]
     },
     "execution_count": 178,
     "metadata": {},
     "output_type": "execute_result"
    }
   ],
   "source": [
    "# läsa in pokelist.json\n",
    "with open('../pokedata/pokelist.json') as file:\n",
    "    pokelist = json.load(file)\n",
    "pokelist[\"3\"].lower()"
   ]
  }
 ],
 "metadata": {
  "kernelspec": {
   "display_name": "venv",
   "language": "python",
   "name": "python3"
  },
  "language_info": {
   "codemirror_mode": {
    "name": "ipython",
    "version": 3
   },
   "file_extension": ".py",
   "mimetype": "text/x-python",
   "name": "python",
   "nbconvert_exporter": "python",
   "pygments_lexer": "ipython3",
   "version": "3.12.3"
  }
 },
 "nbformat": 4,
 "nbformat_minor": 2
}
